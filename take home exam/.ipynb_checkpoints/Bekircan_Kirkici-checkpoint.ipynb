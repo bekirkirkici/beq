{
 "cells": [
  {
   "cell_type": "markdown",
   "metadata": {},
   "source": [
    "# INSY 6500 Fall 2019 Midterm Exam - Python Component\n",
    "## Name: Jeff Smith\n",
    "\n",
    "Make sure and replace my name with yours before you submit.  You are also free to add aditional code and/or markdown cells as necessary.  When I request a \"user-friendly format\", I mean to print the answer in a sentence and use a standard format for numbers/dates, etc."
   ]
  },
  {
   "cell_type": "code",
   "execution_count": 6,
   "metadata": {},
   "outputs": [],
   "source": [
    "# Setting things up - Any imports or directives should go here.\n",
    "%matplotlib inline\n",
    "import numpy as np\n",
    "import pandas as pd\n",
    "import matplotlib.pyplot as plt \n",
    "import seaborn as sns\n",
    "import time\n",
    "import datetime\n"
   ]
  },
  {
   "cell_type": "markdown",
   "metadata": {},
   "source": [
    "### [1] Read the data file \"aokang_store.csv\" into a Pandas dataframe and display the first 10 rows.  Make sure that the creation dates are read as timestamps rather than strings."
   ]
  },
  {
   "cell_type": "code",
   "execution_count": 8,
   "metadata": {},
   "outputs": [
    {
     "data": {
      "text/html": [
       "<div>\n",
       "<style scoped>\n",
       "    .dataframe tbody tr th:only-of-type {\n",
       "        vertical-align: middle;\n",
       "    }\n",
       "\n",
       "    .dataframe tbody tr th {\n",
       "        vertical-align: top;\n",
       "    }\n",
       "\n",
       "    .dataframe thead th {\n",
       "        text-align: right;\n",
       "    }\n",
       "</style>\n",
       "<table border=\"1\" class=\"dataframe\">\n",
       "  <thead>\n",
       "    <tr style=\"text-align: right;\">\n",
       "      <th></th>\n",
       "      <th>OrderNum</th>\n",
       "      <th>SKU</th>\n",
       "      <th>Qty</th>\n",
       "      <th>CreationDTG</th>\n",
       "      <th>Warehouse</th>\n",
       "      <th>BoxCode</th>\n",
       "    </tr>\n",
       "  </thead>\n",
       "  <tbody>\n",
       "    <tr>\n",
       "      <th>0</th>\n",
       "      <td>TF1810250007979</td>\n",
       "      <td>18293101937</td>\n",
       "      <td>2</td>\n",
       "      <td>2018-10-26 08:17:00</td>\n",
       "      <td>SH01</td>\n",
       "      <td>0000247721</td>\n",
       "    </tr>\n",
       "    <tr>\n",
       "      <th>1</th>\n",
       "      <td>TF1810250007979</td>\n",
       "      <td>18293101936</td>\n",
       "      <td>1</td>\n",
       "      <td>2018-10-26 08:17:00</td>\n",
       "      <td>SH01</td>\n",
       "      <td>0000247721</td>\n",
       "    </tr>\n",
       "    <tr>\n",
       "      <th>2</th>\n",
       "      <td>TF1810250007979</td>\n",
       "      <td>18293101935</td>\n",
       "      <td>1</td>\n",
       "      <td>2018-10-26 08:17:00</td>\n",
       "      <td>SH01</td>\n",
       "      <td>0000247721</td>\n",
       "    </tr>\n",
       "    <tr>\n",
       "      <th>3</th>\n",
       "      <td>TF1810250007979</td>\n",
       "      <td>18293101938</td>\n",
       "      <td>2</td>\n",
       "      <td>2018-10-26 08:17:00</td>\n",
       "      <td>SH01</td>\n",
       "      <td>0000247721</td>\n",
       "    </tr>\n",
       "    <tr>\n",
       "      <th>4</th>\n",
       "      <td>TF1810250007979</td>\n",
       "      <td>18293101939</td>\n",
       "      <td>1</td>\n",
       "      <td>2018-10-26 08:17:00</td>\n",
       "      <td>SH01</td>\n",
       "      <td>0000247721</td>\n",
       "    </tr>\n",
       "    <tr>\n",
       "      <th>5</th>\n",
       "      <td>TF1810250007979</td>\n",
       "      <td>18121116139</td>\n",
       "      <td>1</td>\n",
       "      <td>2018-10-26 08:17:00</td>\n",
       "      <td>SH01</td>\n",
       "      <td>0000247721</td>\n",
       "    </tr>\n",
       "    <tr>\n",
       "      <th>6</th>\n",
       "      <td>TF1810250007991</td>\n",
       "      <td>18291109935</td>\n",
       "      <td>1</td>\n",
       "      <td>2018-10-25 17:01:00</td>\n",
       "      <td>SH01</td>\n",
       "      <td>BX1807120006542</td>\n",
       "    </tr>\n",
       "    <tr>\n",
       "      <th>7</th>\n",
       "      <td>TF1810250007991</td>\n",
       "      <td>18291109936</td>\n",
       "      <td>2</td>\n",
       "      <td>2018-10-25 17:01:00</td>\n",
       "      <td>SH01</td>\n",
       "      <td>BX1807120006542</td>\n",
       "    </tr>\n",
       "    <tr>\n",
       "      <th>8</th>\n",
       "      <td>TF1810250007991</td>\n",
       "      <td>18291109937</td>\n",
       "      <td>2</td>\n",
       "      <td>2018-10-25 17:01:00</td>\n",
       "      <td>SH01</td>\n",
       "      <td>BX1807120006542</td>\n",
       "    </tr>\n",
       "    <tr>\n",
       "      <th>9</th>\n",
       "      <td>TF1810250007991</td>\n",
       "      <td>18291109938</td>\n",
       "      <td>2</td>\n",
       "      <td>2018-10-25 17:01:00</td>\n",
       "      <td>SH01</td>\n",
       "      <td>BX1807120006542</td>\n",
       "    </tr>\n",
       "  </tbody>\n",
       "</table>\n",
       "</div>"
      ],
      "text/plain": [
       "          OrderNum          SKU  Qty         CreationDTG Warehouse  \\\n",
       "0  TF1810250007979  18293101937    2 2018-10-26 08:17:00      SH01   \n",
       "1  TF1810250007979  18293101936    1 2018-10-26 08:17:00      SH01   \n",
       "2  TF1810250007979  18293101935    1 2018-10-26 08:17:00      SH01   \n",
       "3  TF1810250007979  18293101938    2 2018-10-26 08:17:00      SH01   \n",
       "4  TF1810250007979  18293101939    1 2018-10-26 08:17:00      SH01   \n",
       "5  TF1810250007979  18121116139    1 2018-10-26 08:17:00      SH01   \n",
       "6  TF1810250007991  18291109935    1 2018-10-25 17:01:00      SH01   \n",
       "7  TF1810250007991  18291109936    2 2018-10-25 17:01:00      SH01   \n",
       "8  TF1810250007991  18291109937    2 2018-10-25 17:01:00      SH01   \n",
       "9  TF1810250007991  18291109938    2 2018-10-25 17:01:00      SH01   \n",
       "\n",
       "           BoxCode  \n",
       "0       0000247721  \n",
       "1       0000247721  \n",
       "2       0000247721  \n",
       "3       0000247721  \n",
       "4       0000247721  \n",
       "5       0000247721  \n",
       "6  BX1807120006542  \n",
       "7  BX1807120006542  \n",
       "8  BX1807120006542  \n",
       "9  BX1807120006542  "
      ]
     },
     "execution_count": 8,
     "metadata": {},
     "output_type": "execute_result"
    }
   ],
   "source": [
    "df = pd.read_csv(\"aokang_store.csv\", parse_dates = [\"CreationDTG\"])\n",
    "df.head(10)"
   ]
  },
  {
   "cell_type": "markdown",
   "metadata": {},
   "source": [
    "The dataset includes order information from an online shoe company.  Each record includes an order number, a SKU, the number of units of the SKU included in the order, the creation date/time, the warehouse that that SKU was picked from, and the bar code for the box that contains the SKU."
   ]
  },
  {
   "cell_type": "markdown",
   "metadata": {},
   "source": [
    "### [2]  Compute the number of <i>unique</i> SKUs and <i>unique</i> orders are contained in the original dataset.  Display the answers in a user-friendly format."
   ]
  },
  {
   "cell_type": "code",
   "execution_count": 17,
   "metadata": {},
   "outputs": [
    {
     "name": "stdout",
     "output_type": "stream",
     "text": [
      "There are 2428 unique SKUs in a total of 12546 orders.\n",
      "and there are 226 unique orders in a total of 12546 orders.\n"
     ]
    }
   ],
   "source": [
    "print('There are {} unique SKUs in a total of {} orders.'.format(df['SKU'].nunique(), df['OrderNum'].count()))\n",
    "print('and there are {} unique orders in a total of {} orders.'.format(df['OrderNum'].nunique(), df['OrderNum'].count()))"
   ]
  },
  {
   "cell_type": "markdown",
   "metadata": {},
   "source": [
    "### [3] Create a new Pandas Dataframe that aggregates the records by SKU number (i.e., there should be one row for each unique SKU).  The columns should include the number of orders including that SKU, and the sum, mean, and maximum quantities of the SKU in the orders.  Display the first 5 rows of this new Dataframe."
   ]
  },
  {
   "cell_type": "code",
   "execution_count": 29,
   "metadata": {},
   "outputs": [
    {
     "data": {
      "text/html": [
       "<div>\n",
       "<style scoped>\n",
       "    .dataframe tbody tr th:only-of-type {\n",
       "        vertical-align: middle;\n",
       "    }\n",
       "\n",
       "    .dataframe tbody tr th {\n",
       "        vertical-align: top;\n",
       "    }\n",
       "\n",
       "    .dataframe thead th {\n",
       "        text-align: right;\n",
       "    }\n",
       "</style>\n",
       "<table border=\"1\" class=\"dataframe\">\n",
       "  <thead>\n",
       "    <tr style=\"text-align: right;\">\n",
       "      <th></th>\n",
       "      <th>Number of Orders</th>\n",
       "      <th>Total Orders of SKU</th>\n",
       "      <th>Average Order</th>\n",
       "      <th>Maximum Order at Once</th>\n",
       "    </tr>\n",
       "    <tr>\n",
       "      <th>SKU</th>\n",
       "      <th></th>\n",
       "      <th></th>\n",
       "      <th></th>\n",
       "      <th></th>\n",
       "    </tr>\n",
       "  </thead>\n",
       "  <tbody>\n",
       "    <tr>\n",
       "      <th>5201100337</th>\n",
       "      <td>5</td>\n",
       "      <td>13</td>\n",
       "      <td>2.600000</td>\n",
       "      <td>4</td>\n",
       "    </tr>\n",
       "    <tr>\n",
       "      <th>5201100339</th>\n",
       "      <td>3</td>\n",
       "      <td>5</td>\n",
       "      <td>1.666667</td>\n",
       "      <td>2</td>\n",
       "    </tr>\n",
       "    <tr>\n",
       "      <th>5201103238</th>\n",
       "      <td>4</td>\n",
       "      <td>12</td>\n",
       "      <td>3.000000</td>\n",
       "      <td>4</td>\n",
       "    </tr>\n",
       "    <tr>\n",
       "      <th>5201103338</th>\n",
       "      <td>2</td>\n",
       "      <td>2</td>\n",
       "      <td>1.000000</td>\n",
       "      <td>1</td>\n",
       "    </tr>\n",
       "    <tr>\n",
       "      <th>5201103339</th>\n",
       "      <td>4</td>\n",
       "      <td>4</td>\n",
       "      <td>1.000000</td>\n",
       "      <td>1</td>\n",
       "    </tr>\n",
       "    <tr>\n",
       "      <th>5201103340</th>\n",
       "      <td>10</td>\n",
       "      <td>18</td>\n",
       "      <td>1.800000</td>\n",
       "      <td>4</td>\n",
       "    </tr>\n",
       "    <tr>\n",
       "      <th>5201103840</th>\n",
       "      <td>2</td>\n",
       "      <td>5</td>\n",
       "      <td>2.500000</td>\n",
       "      <td>3</td>\n",
       "    </tr>\n",
       "    <tr>\n",
       "      <th>5201200534</th>\n",
       "      <td>1</td>\n",
       "      <td>1</td>\n",
       "      <td>1.000000</td>\n",
       "      <td>1</td>\n",
       "    </tr>\n",
       "    <tr>\n",
       "      <th>5201200535</th>\n",
       "      <td>4</td>\n",
       "      <td>4</td>\n",
       "      <td>1.000000</td>\n",
       "      <td>1</td>\n",
       "    </tr>\n",
       "    <tr>\n",
       "      <th>5201200536</th>\n",
       "      <td>7</td>\n",
       "      <td>7</td>\n",
       "      <td>1.000000</td>\n",
       "      <td>1</td>\n",
       "    </tr>\n",
       "  </tbody>\n",
       "</table>\n",
       "</div>"
      ],
      "text/plain": [
       "            Number of Orders  Total Orders of SKU  Average Order  \\\n",
       "SKU                                                                \n",
       "5201100337                 5                   13       2.600000   \n",
       "5201100339                 3                    5       1.666667   \n",
       "5201103238                 4                   12       3.000000   \n",
       "5201103338                 2                    2       1.000000   \n",
       "5201103339                 4                    4       1.000000   \n",
       "5201103340                10                   18       1.800000   \n",
       "5201103840                 2                    5       2.500000   \n",
       "5201200534                 1                    1       1.000000   \n",
       "5201200535                 4                    4       1.000000   \n",
       "5201200536                 7                    7       1.000000   \n",
       "\n",
       "            Maximum Order at Once  \n",
       "SKU                                \n",
       "5201100337                      4  \n",
       "5201100339                      2  \n",
       "5201103238                      4  \n",
       "5201103338                      1  \n",
       "5201103339                      1  \n",
       "5201103340                      4  \n",
       "5201103840                      3  \n",
       "5201200534                      1  \n",
       "5201200535                      1  \n",
       "5201200536                      1  "
      ]
     },
     "execution_count": 29,
     "metadata": {},
     "output_type": "execute_result"
    }
   ],
   "source": [
    "df_new = df.groupby(['SKU']).aggregate(['count','sum', 'mean', 'max'])\n",
    "df_new.columns = ['Number of Orders', 'Total Orders of SKU', 'Average Order', 'Maximum Order at Once']\n",
    "df_new.head(10)"
   ]
  },
  {
   "cell_type": "markdown",
   "metadata": {},
   "source": [
    "### [4] Using the file aokang_store_aggregated.csv (which is a csv file that I created using the same aggregation that I asked for in the previous problem), create a matplotlib figure that includes two side-by-side histograms where the left plot aggregates on the sum column and the right aggregates on the count column.  Make sure that your plots have appropriate labels/titles."
   ]
  },
  {
   "cell_type": "code",
   "execution_count": 47,
   "metadata": {},
   "outputs": [
    {
     "data": {
      "image/png": "[encoded data removed]",
      "text/plain": [
       "<Figure size 576x288 with 2 Axes>"
      ]
     },
     "metadata": {},
     "output_type": "display_data"
    }
   ],
   "source": [
    "plt.style.use('seaborn-whitegrid')\n",
    "fig = plt.figure(figsize=(8,4))\n",
    "\n",
    "ax1 = fig.add_subplot(121)\n",
    "ax2 = fig.add_subplot(122)\n",
    "\n",
    "ax1.set(ylabel='Frequency',title='Sum of SKUs vs Frequency')\n",
    "ax2.set(title='Count of Unique SKUs vs Frequency')\n",
    "\n",
    "ax1.hist(df_new['Total Orders of SKU'])\n",
    "ax2.hist(df_new['Number of Orders']);\n"
   ]
  },
  {
   "cell_type": "markdown",
   "metadata": {},
   "source": [
    "### [5] Using the CreationDTG column, find the earliest and latest times (including date) that orders were placed.  Display these dates in a user-friendly format."
   ]
  },
  {
   "cell_type": "code",
   "execution_count": 82,
   "metadata": {},
   "outputs": [
    {
     "name": "stdout",
     "output_type": "stream",
     "text": [
      "The earliest order is in Oct 25, 2018 at 17:01 and the latest one is Oct 31, 2018 at 10:07\n"
     ]
    }
   ],
   "source": [
    "print('The earliest order is in {:%b %d, %Y at %H:%M} and the latest one is {:%b %d, %Y at %H:%M}'.format(df['CreationDTG'].min(),df['CreationDTG'].max()))"
   ]
  },
  {
   "cell_type": "code",
   "execution_count": null,
   "metadata": {},
   "outputs": [],
   "source": []
  }
 ],
 "metadata": {
  "kernelspec": {
   "display_name": "Python 3",
   "language": "python",
   "name": "python3"
  },
  "language_info": {
   "codemirror_mode": {
    "name": "ipython",
    "version": 3
   },
   "file_extension": ".py",
   "mimetype": "text/x-python",
   "name": "python",
   "nbconvert_exporter": "python",
   "pygments_lexer": "ipython3",
   "version": "3.7.1"
  }
 },
 "nbformat": 4,
 "nbformat_minor": 2
}
